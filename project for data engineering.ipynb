{
 "cells": [
  {
   "cell_type": "markdown",
   "id": "fa2d57cc",
   "metadata": {},
   "source": [
    "# WEBSCRAPING"
   ]
  },
  {
   "cell_type": "code",
   "execution_count": null,
   "id": "3c25c414",
   "metadata": {},
   "outputs": [],
   "source": [
    "#!pip install pandas\n",
    "!pip install bs4\n",
    "!pip install requests"
   ]
  },
  {
   "cell_type": "markdown",
   "id": "cfd561fa",
   "metadata": {},
   "source": [
    "## Imports"
   ]
  },
  {
   "cell_type": "code",
   "execution_count": 4,
   "id": "c220758e",
   "metadata": {},
   "outputs": [],
   "source": [
    "from bs4 import BeautifulSoup #helps in web scrapping.\n",
    "import requests # helps us to download a web page\n",
    "import pandas as pd\n",
    "from bs4 import BeautifulSoup \n",
    "\n"
   ]
  },
  {
   "cell_type": "markdown",
   "id": "d391ba42",
   "metadata": {},
   "source": [
    "## Extract Data Using Web Scraping\n",
    "\n"
   ]
  },
  {
   "cell_type": "code",
   "execution_count": 6,
   "id": "57d79461",
   "metadata": {},
   "outputs": [],
   "source": [
    "url = \"https://en.wikipedia.org/wiki/List_of_largest_banks\"\n",
    "data = requests.get(url).text"
   ]
  },
  {
   "cell_type": "markdown",
   "id": "e25aee13",
   "metadata": {},
   "source": [
    "### Scraping the Data\n",
    "\n"
   ]
  },
  {
   "cell_type": "code",
   "execution_count": 8,
   "id": "19f616e9",
   "metadata": {},
   "outputs": [],
   "source": [
    "# Using BeautifulSoup parse the contents of the webpage.\n",
    "\n",
    "soup = BeautifulSoup(data, \"html.parser\")\n",
    "\n"
   ]
  },
  {
   "cell_type": "code",
   "execution_count": 9,
   "id": "77afabcc",
   "metadata": {},
   "outputs": [
    {
     "data": {
      "text/html": [
       "<div>\n",
       "<style scoped>\n",
       "    .dataframe tbody tr th:only-of-type {\n",
       "        vertical-align: middle;\n",
       "    }\n",
       "\n",
       "    .dataframe tbody tr th {\n",
       "        vertical-align: top;\n",
       "    }\n",
       "\n",
       "    .dataframe thead th {\n",
       "        text-align: right;\n",
       "    }\n",
       "</style>\n",
       "<table border=\"1\" class=\"dataframe\">\n",
       "  <thead>\n",
       "    <tr style=\"text-align: right;\">\n",
       "      <th></th>\n",
       "      <th>Name</th>\n",
       "      <th>Market Cap (US$ Billion)</th>\n",
       "    </tr>\n",
       "  </thead>\n",
       "  <tbody>\n",
       "    <tr>\n",
       "      <th>0</th>\n",
       "      <td>JPMorgan Chase\\n</td>\n",
       "      <td>488.470</td>\n",
       "    </tr>\n",
       "    <tr>\n",
       "      <th>1</th>\n",
       "      <td>Bank of America\\n</td>\n",
       "      <td>379.250</td>\n",
       "    </tr>\n",
       "    <tr>\n",
       "      <th>2</th>\n",
       "      <td>Industrial and Commercial Bank of China\\n</td>\n",
       "      <td>246.500</td>\n",
       "    </tr>\n",
       "    <tr>\n",
       "      <th>3</th>\n",
       "      <td>Wells Fargo\\n</td>\n",
       "      <td>308.013</td>\n",
       "    </tr>\n",
       "    <tr>\n",
       "      <th>4</th>\n",
       "      <td>China Construction Bank\\n</td>\n",
       "      <td>257.399</td>\n",
       "    </tr>\n",
       "    <tr>\n",
       "      <th>...</th>\n",
       "      <td>...</td>\n",
       "      <td>...</td>\n",
       "    </tr>\n",
       "    <tr>\n",
       "      <th>65</th>\n",
       "      <td>Ping An Bank\\n</td>\n",
       "      <td>37.993</td>\n",
       "    </tr>\n",
       "    <tr>\n",
       "      <th>66</th>\n",
       "      <td>Standard Chartered\\n</td>\n",
       "      <td>37.319</td>\n",
       "    </tr>\n",
       "    <tr>\n",
       "      <th>67</th>\n",
       "      <td>United Overseas Bank\\n</td>\n",
       "      <td>35.128</td>\n",
       "    </tr>\n",
       "    <tr>\n",
       "      <th>68</th>\n",
       "      <td>QNB Group\\n</td>\n",
       "      <td>33.560</td>\n",
       "    </tr>\n",
       "    <tr>\n",
       "      <th>69</th>\n",
       "      <td>Bank Rakyat Indonesia\\n</td>\n",
       "      <td>33.081</td>\n",
       "    </tr>\n",
       "  </tbody>\n",
       "</table>\n",
       "<p>70 rows × 2 columns</p>\n",
       "</div>"
      ],
      "text/plain": [
       "                                          Name Market Cap (US$ Billion)\n",
       "0                             JPMorgan Chase\\n                  488.470\n",
       "1                            Bank of America\\n                  379.250\n",
       "2    Industrial and Commercial Bank of China\\n                  246.500\n",
       "3                                Wells Fargo\\n                  308.013\n",
       "4                    China Construction Bank\\n                  257.399\n",
       "..                                         ...                      ...\n",
       "65                              Ping An Bank\\n                   37.993\n",
       "66                        Standard Chartered\\n                   37.319\n",
       "67                      United Overseas Bank\\n                   35.128\n",
       "68                                 QNB Group\\n                   33.560\n",
       "69                     Bank Rakyat Indonesia\\n                   33.081\n",
       "\n",
       "[70 rows x 2 columns]"
      ]
     },
     "execution_count": 9,
     "metadata": {},
     "output_type": "execute_result"
    }
   ],
   "source": [
    "data = pd.DataFrame(columns=[\"Name\", \"Market Cap (US$ Billion)\"])\n",
    "\n",
    "for row in soup.find_all('tbody')[3].find_all('tr'):\n",
    "    col = row.find_all('td')\n",
    "    if len(col)>=2:\n",
    "        data = data.append({\"Name\" :col[1].text, \"Market Cap (US$ Billion)\" :col[2].text.replace('\\n','')},ignore_index=True)\n",
    "data"
   ]
  },
  {
   "cell_type": "code",
   "execution_count": 10,
   "id": "ab9ef2e2",
   "metadata": {},
   "outputs": [
    {
     "data": {
      "text/html": [
       "<div>\n",
       "<style scoped>\n",
       "    .dataframe tbody tr th:only-of-type {\n",
       "        vertical-align: middle;\n",
       "    }\n",
       "\n",
       "    .dataframe tbody tr th {\n",
       "        vertical-align: top;\n",
       "    }\n",
       "\n",
       "    .dataframe thead th {\n",
       "        text-align: right;\n",
       "    }\n",
       "</style>\n",
       "<table border=\"1\" class=\"dataframe\">\n",
       "  <thead>\n",
       "    <tr style=\"text-align: right;\">\n",
       "      <th></th>\n",
       "      <th>Name</th>\n",
       "      <th>Market Cap (US$ Billion)</th>\n",
       "    </tr>\n",
       "  </thead>\n",
       "  <tbody>\n",
       "    <tr>\n",
       "      <th>0</th>\n",
       "      <td>JPMorgan Chase\\n</td>\n",
       "      <td>488.470</td>\n",
       "    </tr>\n",
       "    <tr>\n",
       "      <th>1</th>\n",
       "      <td>Bank of America\\n</td>\n",
       "      <td>379.250</td>\n",
       "    </tr>\n",
       "    <tr>\n",
       "      <th>2</th>\n",
       "      <td>Industrial and Commercial Bank of China\\n</td>\n",
       "      <td>246.500</td>\n",
       "    </tr>\n",
       "    <tr>\n",
       "      <th>3</th>\n",
       "      <td>Wells Fargo\\n</td>\n",
       "      <td>308.013</td>\n",
       "    </tr>\n",
       "    <tr>\n",
       "      <th>4</th>\n",
       "      <td>China Construction Bank\\n</td>\n",
       "      <td>257.399</td>\n",
       "    </tr>\n",
       "  </tbody>\n",
       "</table>\n",
       "</div>"
      ],
      "text/plain": [
       "                                         Name Market Cap (US$ Billion)\n",
       "0                            JPMorgan Chase\\n                  488.470\n",
       "1                           Bank of America\\n                  379.250\n",
       "2   Industrial and Commercial Bank of China\\n                  246.500\n",
       "3                               Wells Fargo\\n                  308.013\n",
       "4                   China Construction Bank\\n                  257.399"
      ]
     },
     "execution_count": 10,
     "metadata": {},
     "output_type": "execute_result"
    }
   ],
   "source": [
    "data.head()"
   ]
  },
  {
   "cell_type": "markdown",
   "id": "93e63fa0",
   "metadata": {},
   "source": [
    "### Loading the Data\n",
    "\n"
   ]
  },
  {
   "cell_type": "code",
   "execution_count": 12,
   "id": "9e98c302",
   "metadata": {},
   "outputs": [],
   "source": [
    "data.to_json(\"bank_market_cap.json\")"
   ]
  },
  {
   "cell_type": "code",
   "execution_count": null,
   "id": "55649b54",
   "metadata": {},
   "outputs": [],
   "source": []
  },
  {
   "cell_type": "markdown",
   "id": "6e886753",
   "metadata": {},
   "source": [
    "# API"
   ]
  },
  {
   "cell_type": "markdown",
   "id": "d17669ab",
   "metadata": {},
   "source": [
    "## Extract Data Using an API\n",
    "\n"
   ]
  },
  {
   "cell_type": "markdown",
   "id": "152931ff",
   "metadata": {},
   "source": [
    "Using ExchangeRate-API we will extract currency exchange rate data. Use the below steps to get the access key and to get the data.\n",
    "\n",
    "1.  Open the url : [https://exchangeratesapi.io/](https://exchangeratesapi.io/?utm_medium=Exinfluencer&utm_source=Exinfluencer&utm_content=000026UJ&utm_term=10006555&utm_id=NA-SkillsNetwork-Channel-SkillsNetworkCoursesIBMDeveloperSkillsNetworkPY0221ENSkillsNetwork23455645-2021-01-01) and create a free account.\n",
    "2.  Once the account is created. You will get the Get the Free API key option on the top as shown below:\n",
    "\n",
    "<img src=\"https://cf-courses-data.s3.us.cloud-object-storage.appdomain.cloud/IBMDeveloperSkillsNetwork-PY0221EN-SkillsNetwork/labs/module%206/Final%20Assignment/Images/getapi.png\"/>\n",
    "\n",
    "3.  Copy the API key and use in the url in Question 1.\n",
    "\n"
   ]
  },
  {
   "cell_type": "markdown",
   "id": "ced0c085",
   "metadata": {},
   "source": [
    "### Call the API"
   ]
  },
  {
   "cell_type": "code",
   "execution_count": 14,
   "id": "33facc4d",
   "metadata": {},
   "outputs": [],
   "source": [
    "url = \"http://api.exchangeratesapi.io/v1/latest?base=EUR&access_key=a74582f972888ce6c8ac9eda18ba5d33\"  "
   ]
  },
  {
   "cell_type": "code",
   "execution_count": 17,
   "id": "645e2262",
   "metadata": {},
   "outputs": [],
   "source": [
    "r=requests.get(url)"
   ]
  },
  {
   "cell_type": "code",
   "execution_count": 18,
   "id": "9606d889",
   "metadata": {},
   "outputs": [
    {
     "name": "stdout",
     "output_type": "stream",
     "text": [
      "request body: None\n",
      "{'Date': 'Sat, 04 Dec 2021 17:19:10 GMT', 'Content-Type': 'application/json; Charset=UTF-8', 'Transfer-Encoding': 'chunked', 'Connection': 'keep-alive', 'x-apilayer-transaction-id': 'c16ac785-99ff-40c1-8fd7-5975ae3bdc84', 'access-control-allow-methods': 'GET, HEAD, POST, PUT, PATCH, DELETE, OPTIONS', 'access-control-allow-origin': '*', 'x-request-time': '0.014', 'CF-Cache-Status': 'DYNAMIC', 'Report-To': '{\"endpoints\":[{\"url\":\"https:\\\\/\\\\/a.nel.cloudflare.com\\\\/report\\\\/v3?s=85GqLOKfDywEBWeLm34ngkEZYo7INwG2c%2BAp1jCzMPJy9p68%2FN1JnuA4XhAn3kn9JjEzBOK9r8Zj5wKjpMgyd80JYm4kDC0zN4hbLNuxUu5049LMW6Ngfiuf8ibt%2BI%2BGLWPl3JW5esmM\"}],\"group\":\"cf-nel\",\"max_age\":604800}', 'NEL': '{\"success_fraction\":0,\"report_to\":\"cf-nel\",\"max_age\":604800}', 'Server': 'cloudflare', 'CF-RAY': '6b86b2b97e21405b-CDG', 'Content-Encoding': 'gzip'}\n"
     ]
    }
   ],
   "source": [
    "print(\"request body:\", r.request.body) # None\n",
    "header=r.headers\n",
    "print(r.headers)"
   ]
  },
  {
   "cell_type": "code",
   "execution_count": 19,
   "id": "7fc86473",
   "metadata": {},
   "outputs": [
    {
     "name": "stdout",
     "output_type": "stream",
     "text": [
      "Sat, 04 Dec 2021 17:19:10 GMT\n",
      "application/json; Charset=UTF-8\n"
     ]
    },
    {
     "data": {
      "text/plain": [
       "'UTF-8'"
      ]
     },
     "execution_count": 19,
     "metadata": {},
     "output_type": "execute_result"
    }
   ],
   "source": [
    "print(header['date'])\n",
    "print(header['Content-Type'])\n",
    "r.encoding"
   ]
  },
  {
   "cell_type": "code",
   "execution_count": 20,
   "id": "f890529d",
   "metadata": {},
   "outputs": [],
   "source": [
    "# json to python dict\n",
    "d = r.json()"
   ]
  },
  {
   "cell_type": "markdown",
   "id": "b9ee7c77",
   "metadata": {},
   "source": [
    "### Save as DataFrame"
   ]
  },
  {
   "cell_type": "code",
   "execution_count": 21,
   "id": "5bb53482",
   "metadata": {},
   "outputs": [
    {
     "data": {
      "text/html": [
       "<div>\n",
       "<style scoped>\n",
       "    .dataframe tbody tr th:only-of-type {\n",
       "        vertical-align: middle;\n",
       "    }\n",
       "\n",
       "    .dataframe tbody tr th {\n",
       "        vertical-align: top;\n",
       "    }\n",
       "\n",
       "    .dataframe thead th {\n",
       "        text-align: right;\n",
       "    }\n",
       "</style>\n",
       "<table border=\"1\" class=\"dataframe\">\n",
       "  <thead>\n",
       "    <tr style=\"text-align: right;\">\n",
       "      <th></th>\n",
       "      <th>success</th>\n",
       "      <th>timestamp</th>\n",
       "      <th>base</th>\n",
       "      <th>date</th>\n",
       "      <th>rates</th>\n",
       "    </tr>\n",
       "  </thead>\n",
       "  <tbody>\n",
       "    <tr>\n",
       "      <th>AED</th>\n",
       "      <td>True</td>\n",
       "      <td>1638635343</td>\n",
       "      <td>EUR</td>\n",
       "      <td>2021-12-04</td>\n",
       "      <td>4.155546</td>\n",
       "    </tr>\n",
       "    <tr>\n",
       "      <th>AFN</th>\n",
       "      <td>True</td>\n",
       "      <td>1638635343</td>\n",
       "      <td>EUR</td>\n",
       "      <td>2021-12-04</td>\n",
       "      <td>108.635063</td>\n",
       "    </tr>\n",
       "    <tr>\n",
       "      <th>ALL</th>\n",
       "      <td>True</td>\n",
       "      <td>1638635343</td>\n",
       "      <td>EUR</td>\n",
       "      <td>2021-12-04</td>\n",
       "      <td>120.953369</td>\n",
       "    </tr>\n",
       "    <tr>\n",
       "      <th>AMD</th>\n",
       "      <td>True</td>\n",
       "      <td>1638635343</td>\n",
       "      <td>EUR</td>\n",
       "      <td>2021-12-04</td>\n",
       "      <td>554.613743</td>\n",
       "    </tr>\n",
       "    <tr>\n",
       "      <th>ANG</th>\n",
       "      <td>True</td>\n",
       "      <td>1638635343</td>\n",
       "      <td>EUR</td>\n",
       "      <td>2021-12-04</td>\n",
       "      <td>2.037820</td>\n",
       "    </tr>\n",
       "    <tr>\n",
       "      <th>...</th>\n",
       "      <td>...</td>\n",
       "      <td>...</td>\n",
       "      <td>...</td>\n",
       "      <td>...</td>\n",
       "      <td>...</td>\n",
       "    </tr>\n",
       "    <tr>\n",
       "      <th>YER</th>\n",
       "      <td>True</td>\n",
       "      <td>1638635343</td>\n",
       "      <td>EUR</td>\n",
       "      <td>2021-12-04</td>\n",
       "      <td>283.119359</td>\n",
       "    </tr>\n",
       "    <tr>\n",
       "      <th>ZAR</th>\n",
       "      <td>True</td>\n",
       "      <td>1638635343</td>\n",
       "      <td>EUR</td>\n",
       "      <td>2021-12-04</td>\n",
       "      <td>18.256692</td>\n",
       "    </tr>\n",
       "    <tr>\n",
       "      <th>ZMK</th>\n",
       "      <td>True</td>\n",
       "      <td>1638635343</td>\n",
       "      <td>EUR</td>\n",
       "      <td>2021-12-04</td>\n",
       "      <td>10183.461688</td>\n",
       "    </tr>\n",
       "    <tr>\n",
       "      <th>ZMW</th>\n",
       "      <td>True</td>\n",
       "      <td>1638635343</td>\n",
       "      <td>EUR</td>\n",
       "      <td>2021-12-04</td>\n",
       "      <td>20.166127</td>\n",
       "    </tr>\n",
       "    <tr>\n",
       "      <th>ZWL</th>\n",
       "      <td>True</td>\n",
       "      <td>1638635343</td>\n",
       "      <td>EUR</td>\n",
       "      <td>2021-12-04</td>\n",
       "      <td>364.292450</td>\n",
       "    </tr>\n",
       "  </tbody>\n",
       "</table>\n",
       "<p>168 rows × 5 columns</p>\n",
       "</div>"
      ],
      "text/plain": [
       "     success   timestamp base        date         rates\n",
       "AED     True  1638635343  EUR  2021-12-04      4.155546\n",
       "AFN     True  1638635343  EUR  2021-12-04    108.635063\n",
       "ALL     True  1638635343  EUR  2021-12-04    120.953369\n",
       "AMD     True  1638635343  EUR  2021-12-04    554.613743\n",
       "ANG     True  1638635343  EUR  2021-12-04      2.037820\n",
       "..       ...         ...  ...         ...           ...\n",
       "YER     True  1638635343  EUR  2021-12-04    283.119359\n",
       "ZAR     True  1638635343  EUR  2021-12-04     18.256692\n",
       "ZMK     True  1638635343  EUR  2021-12-04  10183.461688\n",
       "ZMW     True  1638635343  EUR  2021-12-04     20.166127\n",
       "ZWL     True  1638635343  EUR  2021-12-04    364.292450\n",
       "\n",
       "[168 rows x 5 columns]"
      ]
     },
     "execution_count": 21,
     "metadata": {},
     "output_type": "execute_result"
    }
   ],
   "source": [
    "# Turn the data into a dataframe\n",
    "df = pd.DataFrame(d)\n",
    "df"
   ]
  },
  {
   "cell_type": "code",
   "execution_count": 22,
   "id": "38db4af3",
   "metadata": {},
   "outputs": [
    {
     "data": {
      "text/html": [
       "<div>\n",
       "<style scoped>\n",
       "    .dataframe tbody tr th:only-of-type {\n",
       "        vertical-align: middle;\n",
       "    }\n",
       "\n",
       "    .dataframe tbody tr th {\n",
       "        vertical-align: top;\n",
       "    }\n",
       "\n",
       "    .dataframe thead th {\n",
       "        text-align: right;\n",
       "    }\n",
       "</style>\n",
       "<table border=\"1\" class=\"dataframe\">\n",
       "  <thead>\n",
       "    <tr style=\"text-align: right;\">\n",
       "      <th></th>\n",
       "      <th>rates</th>\n",
       "    </tr>\n",
       "  </thead>\n",
       "  <tbody>\n",
       "    <tr>\n",
       "      <th>AED</th>\n",
       "      <td>4.155546</td>\n",
       "    </tr>\n",
       "    <tr>\n",
       "      <th>AFN</th>\n",
       "      <td>108.635063</td>\n",
       "    </tr>\n",
       "    <tr>\n",
       "      <th>ALL</th>\n",
       "      <td>120.953369</td>\n",
       "    </tr>\n",
       "    <tr>\n",
       "      <th>AMD</th>\n",
       "      <td>554.613743</td>\n",
       "    </tr>\n",
       "    <tr>\n",
       "      <th>ANG</th>\n",
       "      <td>2.037820</td>\n",
       "    </tr>\n",
       "  </tbody>\n",
       "</table>\n",
       "</div>"
      ],
      "text/plain": [
       "          rates\n",
       "AED    4.155546\n",
       "AFN  108.635063\n",
       "ALL  120.953369\n",
       "AMD  554.613743\n",
       "ANG    2.037820"
      ]
     },
     "execution_count": 22,
     "metadata": {},
     "output_type": "execute_result"
    }
   ],
   "source": [
    "# Drop unnescessary columns\n",
    "df.drop(df.columns[[0,1,2,3]], axis = 1, inplace = True)\n",
    "df.head(5)"
   ]
  },
  {
   "cell_type": "markdown",
   "id": "ed14c771",
   "metadata": {},
   "source": [
    "### Save it as csv "
   ]
  },
  {
   "cell_type": "code",
   "execution_count": 23,
   "id": "674bee93",
   "metadata": {},
   "outputs": [],
   "source": [
    "# Save the Dataframe\n",
    "df.to_csv('exchange_rates_1.csv')"
   ]
  },
  {
   "cell_type": "code",
   "execution_count": null,
   "id": "30b7dabb",
   "metadata": {},
   "outputs": [],
   "source": [
    "S"
   ]
  }
 ],
 "metadata": {
  "kernelspec": {
   "display_name": "Python 3",
   "language": "python",
   "name": "python3"
  },
  "language_info": {
   "codemirror_mode": {
    "name": "ipython",
    "version": 3
   },
   "file_extension": ".py",
   "mimetype": "text/x-python",
   "name": "python",
   "nbconvert_exporter": "python",
   "pygments_lexer": "ipython3",
   "version": "3.8.8"
  }
 },
 "nbformat": 4,
 "nbformat_minor": 5
}
